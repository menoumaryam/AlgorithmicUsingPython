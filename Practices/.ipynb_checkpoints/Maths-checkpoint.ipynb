{
 "cells": [
  {
   "cell_type": "markdown",
   "metadata": {},
   "source": [
    "## Exercise 1: Hamming distance\n",
    "\n",
    "Write a `hamming()` function that calculates the Hamming distance between two words when they have the same length, and returns −1 otherwise.\n",
    "\n",
    "- Indication:\n",
    "\n",
    "    The Hamming distance between two vectors is simply the sum of corresponding elements that differ between the vectors.\n",
    "\n",
    "    - For example, suppose we have the following two vectors:\n",
    "    ```python\n",
    "    x = [1, 2, 3, 4]\n",
    "    y = [1, 2, 5, 7]\n",
    "    ```\n",
    "    - The Hamming distance between the two vectors would be 2, since this is the total number of corresponding elements that have different values.\n",
    "\n",
    "\n",
    "### "
   ]
  },
  {
   "cell_type": "code",
   "execution_count": 11,
   "metadata": {},
   "outputs": [
    {
     "name": "stdout",
     "output_type": "stream",
     "text": [
      "0\n"
     ]
    }
   ],
   "source": [
    "L = [11,45,55,55,11,41,52,15,6]\n",
    "L1 = [11,554,55,1,11,2,4,7,5]\n",
    "\n",
    "def Hamming_distance(L,L1):\n",
    "    hamming = 0\n",
    "    if len(L) != len(L1):\n",
    "        return \"It is not possible to calculate the Hamming distance of the given words\"\n",
    "    else :\n",
    "        for i in range(len(L1)):\n",
    "            if L[i] != L1[i]:\n",
    "                hamming += 1\n",
    "        return hamming \n",
    "    \n",
    "distance = Hamming_distance(L1,L2)\n",
    "print(distance)"
   ]
  },
  {
   "cell_type": "markdown",
   "metadata": {},
   "source": [
    "## Exercise 2: Syracuse sequence\n",
    "\n",
    "We define the Syracuse sequence ($u_n$) by $u_0$ $\\in$ $\\mathbb{N}$ and\n",
    "\n",
    "$$\n",
    "u_n + 1 = \\left\\{\n",
    "    \\begin{array}{ll}\n",
    "        \\frac{u_n}{2} \\mbox{ if $u_n$ is even} \\\\\n",
    "        3u_{n+1} \\mbox{ if $u_n$ is odd} \n",
    "    \\end{array}\n",
    "\\right.\n",
    "$$\n",
    "\n",
    "1. Write a `syracuse()` function which takes as input two integers $u_0$ and $n$ and returns $u_n$.\n",
    "2. Check that we always end up with cycle $4,2,1,4,2,1,\\dots$, for $0 \\leq u_0 \\leq 20$.\n",
    "3. Given u_0 $\\in$ $\\mathbb{N}$ denote $h$ the smallest of the integers $n$ such that $u_n = 1$ (we assume that such $h$ exists).\n",
    "    - Write a function `height()` which takes as input $u_0$ and calculates $h$.\n",
    "4. Calculate the couples ($u_0$, height($u_0$)) for $u_0 \\leq 100$."
   ]
  },
  {
   "cell_type": "code",
   "execution_count": 12,
   "metadata": {},
   "outputs": [
    {
     "name": "stdout",
     "output_type": "stream",
     "text": [
      "1.0\n",
      "17\n",
      "[[1, 0], [2, 1], [3, 7], [4, 2], [5, 5], [6, 8], [7, 16], [8, 3], [9, 19], [10, 6], [11, 14], [12, 9], [13, 9], [14, 17], [15, 17], [16, 4], [17, 12], [18, 20], [19, 20], [20, 7], [21, 7], [22, 15], [23, 15], [24, 10], [25, 23], [26, 10], [27, 111], [28, 18], [29, 18], [30, 18], [31, 106], [32, 5], [33, 26], [34, 13], [35, 13], [36, 21], [37, 21], [38, 21], [39, 34], [40, 8], [41, 109], [42, 8], [43, 29], [44, 16], [45, 16], [46, 16], [47, 104], [48, 11], [49, 24], [50, 24], [51, 24], [52, 11], [53, 11], [54, 112], [55, 112], [56, 19], [57, 32], [58, 19], [59, 32], [60, 19], [61, 19], [62, 107], [63, 107], [64, 6], [65, 27], [66, 27], [67, 27], [68, 14], [69, 14], [70, 14], [71, 102], [72, 22], [73, 115], [74, 22], [75, 14], [76, 22], [77, 22], [78, 35], [79, 35], [80, 9], [81, 22], [82, 110], [83, 110], [84, 9], [85, 9], [86, 30], [87, 30], [88, 17], [89, 30], [90, 17], [91, 92], [92, 17], [93, 17], [94, 105], [95, 105], [96, 12], [97, 118], [98, 25], [99, 25], [100, 25]]\n"
     ]
    }
   ],
   "source": [
    "def syracuse(u0,n):\n",
    "    i=0\n",
    "    while i<n:\n",
    "        if u0%2==0:\n",
    "            u0=u0/2\n",
    "        else :\n",
    "            u0=u0*3+1\n",
    "        i+=1\n",
    "    return u0\n",
    "print(syracuse(99,25))\n",
    "def height(u0):\n",
    "    i=0\n",
    "    while u0!=1:\n",
    "        if u0%2==0:\n",
    "            u0=u0/2\n",
    "        else :\n",
    "            u0=u0*3+1\n",
    "        i+=1\n",
    "    return i \n",
    "\n",
    "print(height(15))\n",
    "\n",
    "list=[]\n",
    "for i in range(1,101):\n",
    "    list.append([i,height(i)])\n",
    "print(list)\n"
   ]
  },
  {
   "cell_type": "markdown",
   "metadata": {},
   "source": [
    "## Exercise 3: \n",
    "\n",
    "We consider the application $\\sigma = \\mathbb{N^*} \\to \\mathbb{N^*}$ which associates with each integer $n$ the sum of the cubes of the digits of its writing in base 10. \n",
    "- For example, if $n = 123$ then $\\sigma(n) = 1^3 + 2^3 + 3^3 = 36$.\n",
    "\n",
    "1. Write a `sigma()` function that takes as input a non-zero integer $n$ and returns the sum of cubes of its digits in base 10.\n",
    "\n",
    "2. Find all integers $n \\leq 1000$ such that $\\sigma(n) = n$.\n",
    "\n",
    "3. Given $a \\in \\mathbb{N^*}$, we are interested in the sequence ($u_n(a)$) defined by $u_0(a) = a$ and $u_{n+1}(a) = \\sigma(u_n(a))$.\n",
    "\n",
    "4. For several values of a, display the first 20 terms of the sequence ($u_n(a)$).\n",
    "\n",
    "5. Show using the computer that for all $1 \\leq a \\leq 9999$ which is a multiple of 3 we have $u_{13}(a) = 153$."
   ]
  },
  {
   "cell_type": "code",
   "execution_count": 14,
   "metadata": {},
   "outputs": [
    {
     "name": "stdout",
     "output_type": "stream",
     "text": [
      "3.0\n",
      "[1, 153, 370, 371, 407]\n",
      "[[8.0, 512.0, 134.0, 92.0, 737.0, 713.0, 371.0, 371.0, 371.0, 371.0, 371.0, 371.0, 371.0, 371.0, 371.0, 371.0, 371.0, 371.0, 371.0, 371.0], [27.0, 351.0, 153.0, 153.0, 153.0, 153.0, 153.0, 153.0, 153.0, 153.0, 153.0, 153.0, 153.0, 153.0, 153.0, 153.0, 153.0, 153.0, 153.0, 153.0], [64.0, 280.0, 520.0, 133.0, 55.0, 250.0, 133.0, 55.0, 250.0, 133.0, 55.0, 250.0, 133.0, 55.0, 250.0, 133.0, 55.0, 250.0, 133.0, 55.0], [125.0, 134.0, 92.0, 737.0, 713.0, 371.0, 371.0, 371.0, 371.0, 371.0, 371.0, 371.0, 371.0, 371.0, 371.0, 371.0, 371.0, 371.0, 371.0, 371.0], [216.0, 225.0, 141.0, 66.0, 432.0, 99.0, 1458.0, 702.0, 351.0, 153.0, 153.0, 153.0, 153.0, 153.0, 153.0, 153.0, 153.0, 153.0, 153.0, 153.0], [343.0, 118.0, 514.0, 190.0, 730.0, 370.0, 370.0, 370.0, 370.0, 370.0, 370.0, 370.0, 370.0, 370.0, 370.0, 370.0, 370.0, 370.0, 370.0, 370.0], [512.0, 134.0, 92.0, 737.0, 713.0, 371.0, 371.0, 371.0, 371.0, 371.0, 371.0, 371.0, 371.0, 371.0, 371.0, 371.0, 371.0, 371.0, 371.0, 371.0], [729.0, 1080.0, 513.0, 153.0, 153.0, 153.0, 153.0, 153.0, 153.0, 153.0, 153.0, 153.0, 153.0, 153.0, 153.0, 153.0, 153.0, 153.0, 153.0, 153.0], [1.0, 1.0, 1.0, 1.0, 1.0, 1.0, 1.0, 1.0, 1.0, 1.0, 1.0, 1.0, 1.0, 1.0, 1.0, 1.0, 1.0, 1.0, 1.0, 1.0]]\n"
     ]
    }
   ],
   "source": [
    "\n",
    "\n",
    "def sigma(num):\n",
    "    \n",
    "    n=len(str(num))\n",
    "    \n",
    "    som=0\n",
    "    for i in range(1,n+1):\n",
    "        m=(num//10**i)*(10**i)\n",
    "        x=(num-m)/(10**(i-1))\n",
    "        num=m\n",
    "        som+=x**3\n",
    "    return som\n",
    "print(sigma(111))\n",
    "\n",
    "list=[]\n",
    "for i in range(1,1000):\n",
    "    if sigma(i)==i:\n",
    "        list.append(i)\n",
    "print(list)\n",
    "\n",
    "\n",
    "list0=[]\n",
    "for i in range(2,11):\n",
    "    list=[]\n",
    "    for j in range(20):\n",
    "        i=sigma(i)\n",
    "        list.append(i)\n",
    "    list0.append(list)\n",
    "\n",
    "print(list0)\n",
    "\n"
   ]
  },
  {
   "cell_type": "markdown",
   "metadata": {},
   "source": [
    "## Exercise 4: \n",
    "\n",
    "We call magic square of order n, any square matrix $M$ of order $n$ whose elements are the integers from 1 to $n^2$ arranged so that their sums on each line, on each column and on the two diagonals are equal. The common value of these sums is called the magic constant of $M$, and we have in fact $M = \\frac{n(n^2+1)}{2}$.\n",
    "\n",
    "1. Write a `permutation()` function that takes an array $T$ consisting of $n$ integers and decides if $T$ is a permutation of {1, 2, $\\dots$ , n}.\n",
    "    - We will first check if all the elements of $T$ are in {1, 2,$\\dots$, n}.\n",
    "    - Then we will check that no element of $T$ is repeated.\n",
    "    \n",
    "2. Write a function `magic_square()` which makes it possible to decide if a square matrix $M$ is a magic square.\n",
    "    - We will first start by checking if the array M.flatten() is a permutation of {1, 2, $\\dots$ , $n^2$}.\n",
    "    - We will then use slicing to check if the sums of rows, columns and the two diagonals are the same.\n",
    "    \n",
    "3. Using the `magic_square()` function find the magic squares of order 2."
   ]
  },
  {
   "cell_type": "code",
   "execution_count": 16,
   "metadata": {},
   "outputs": [
    {
     "name": "stdout",
     "output_type": "stream",
     "text": [
      "True\n"
     ]
    }
   ],
   "source": [
    "def permutation(list):\n",
    "    n=len(list)\n",
    "    som=0\n",
    "    for i in range(len(list)):\n",
    "        som+=list[i]\n",
    "        for j in range(i+1,len(list)):\n",
    "            if list[i]==list[j]:\n",
    "                return False\n",
    "            \n",
    "            \n",
    "    if som==(n*(n+1))/2:\n",
    "        return True\n",
    "    else :\n",
    "        return False\n",
    "print(permutation([1,3,2,4]))"
   ]
  },
  {
   "cell_type": "markdown",
   "metadata": {},
   "source": [
    "## Exercise 5:\n",
    "\n",
    "1. Randomly generate a matrix $M$ of real numbers. Then calculate the tables of means, variances and standard deviations of the lines of $M$.\n",
    "\n",
    "2. Doing a search, find numpy functions and methods to do the same job as in question 1. without using loops."
   ]
  },
  {
   "cell_type": "code",
   "execution_count": 3,
   "metadata": {},
   "outputs": [],
   "source": []
  },
  {
   "cell_type": "markdown",
   "metadata": {},
   "source": [
    "## Execise 6:\n",
    "\n",
    "A square matrix $M$ of order $n$ is said to be stochastic if all its coefficients are in [0,1] and the sum of the coefficients of each row of $M$ is equal to 1.\n",
    "\n",
    "1. Write a test function `stoch()` which verifies if a square matrix $M$ is stochastic.\n",
    "2. Write a function `stoch(n)` which allows to randomly generate a stochastic matrix of order $n$.\n",
    "3. Write a `sequence()` function which takes as input a stochastic matrix $M$ of order $n$ and a vector $V$ of size $n$ as well as an integer $d$ and displays the vectors\n",
    "\n",
    "$$\n",
    "V, M.V, M^2.V, \\dots , M^d.V\n",
    "$$\n",
    "\n",
    "- To calculate the product $M.V$ we use the `dot()` function by simply writing ```np.dot(M,V)```.\n",
    "\n",
    "4. For fixed $n$, for example 4, randomly generate a stochastic matrix $M$ of order $n$ and a vector of size $n$. Then test the function `sequence()` on $M$ and $V$ with several values of $d$. Repeat this experiment several times and draw a conclusion."
   ]
  },
  {
   "cell_type": "code",
   "execution_count": null,
   "metadata": {},
   "outputs": [],
   "source": [
    "# Your code here"
   ]
  }
 ],
 "metadata": {
  "kernelspec": {
   "display_name": "Python 3 (ipykernel)",
   "language": "python",
   "name": "python3"
  },
  "language_info": {
   "codemirror_mode": {
    "name": "ipython",
    "version": 3
   },
   "file_extension": ".py",
   "mimetype": "text/x-python",
   "name": "python",
   "nbconvert_exporter": "python",
   "pygments_lexer": "ipython3",
   "version": "3.10.6"
  }
 },
 "nbformat": 4,
 "nbformat_minor": 4
}
