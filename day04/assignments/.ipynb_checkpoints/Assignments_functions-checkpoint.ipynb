{
 "cells": [
  {
   "cell_type": "markdown",
   "metadata": {},
   "source": [
    "## Functions exercises "
   ]
  },
  {
   "cell_type": "markdown",
   "metadata": {},
   "source": [
    "### Exercise 1:\n",
    "\n",
    "1- Create a function `compute_power(x,y)` which return $x^y$ using the `**` operator.\n",
    "\n",
    "- Desired output:\n",
    "```Python\n",
    ">>> 2**2\n",
    "4\n",
    ">>> 2**3\n",
    "8\n",
    ">>> 2**4\n",
    "16\n",
    "```\n",
    "\n",
    "2- Compute the $2^i$ (i=0,...,20)."
   ]
  },
  {
   "cell_type": "code",
   "execution_count": 5,
   "metadata": {},
   "outputs": [
    {
     "name": "stdout",
     "output_type": "stream",
     "text": [
      "4\n",
      "8\n",
      "16\n",
      "-------\n",
      "1\n",
      "2\n",
      "4\n",
      "8\n",
      "16\n",
      "32\n",
      "64\n",
      "128\n",
      "256\n",
      "512\n",
      "1024\n",
      "2048\n",
      "4096\n",
      "8192\n",
      "16384\n",
      "32768\n",
      "65536\n",
      "131072\n",
      "262144\n",
      "524288\n",
      "1048576\n"
     ]
    }
   ],
   "source": [
    "def compute_power (x,y):\n",
    "    return x**y\n",
    "print(compute_power(2,2))\n",
    "print(compute_power(2,3))\n",
    "print(compute_power(2,4))\n",
    "\n",
    "\n",
    "\n",
    "\n",
    "print('-------')\n",
    "for i in range(21):\n",
    "    print(compute_power(2, i))"
   ]
  },
  {
   "cell_type": "markdown",
   "metadata": {},
   "source": [
    "### Exercise 2:\n",
    "\n",
    "1- Create a function that draw a pyramid with N rows (N given by the user), as below:\n",
    "\n",
    "- Desired output:\n",
    "```Python\n",
    "          *\n",
    "         ***\n",
    "        *****\n",
    "       *******\n",
    "      *********\n",
    "     ***********\n",
    "    *************\n",
    "   ***************\n",
    "  *****************\n",
    "```"
   ]
  },
  {
   "cell_type": "code",
   "execution_count": 6,
   "metadata": {},
   "outputs": [
    {
     "name": "stdout",
     "output_type": "stream",
     "text": [
      "        *\n",
      "       ***\n",
      "      *****\n",
      "     *******\n",
      "    *********\n",
      "   ***********\n",
      "  *************\n",
      " ***************\n",
      "*****************\n"
     ]
    }
   ],
   "source": [
    "def pyramid(n):\n",
    "    for i in range(n):\n",
    "        print((\" \"*(n-i-1)+(2*i+1)*\"*\"))\n",
    "        \n",
    "pyramid(9)"
   ]
  },
  {
   "cell_type": "markdown",
   "metadata": {},
   "source": [
    "## Exercise 3:\n",
    "\n",
    "1- Create a function `compute_3D_distance()` which calculate the euclidean distance in 3D between two atoms.\n",
    "\n",
    "2- Test the function using the two vertices $A(0,0,0)$ et $B(1,1,1)$. Do you find $\\sqrt 3$ ?\n",
    "\n",
    "- The euclidean distance between two vertices $A(x_A,y_A,z_A)$ and $A(x_B,y_B,z_B)$ is: $\\sqrt{ \\left( x_B - x_A \\right)^{2} +  \\left( y_B - y_A \\right)^{2} +  \\left( z_B - z_A \\right)^{2}}$\n"
   ]
  },
  {
   "cell_type": "code",
   "execution_count": 7,
   "metadata": {},
   "outputs": [
    {
     "name": "stdout",
     "output_type": "stream",
     "text": [
      "sqrt(3)\n"
     ]
    }
   ],
   "source": [
    "import sympy as sp\n",
    "def compute_3D_distance(A,B):\n",
    "    X_axis = B[0]-A[0] \n",
    "    Y_axis = B[1]-A[1] \n",
    "    Z_axis = B[2]-A[2] \n",
    "    \n",
    "    distance = sp.sqrt(X_axis**2+Y_axis**2+Z_axis**2)\n",
    "    print(distance)\n",
    "\n",
    "𝐴 = (0,0,0) \n",
    "𝐵 = (1,1,1) \n",
    "compute_3D_distance(A,B)"
   ]
  },
  {
   "cell_type": "markdown",
   "metadata": {},
   "source": [
    "### Exercise 4:\n",
    "\n",
    "1- Write a function `x(n)` for computing an element in the sequence $x_n=n^2+1$. \n",
    "\n",
    "2- Call the function for $n=4$ and write out the result.\n"
   ]
  },
  {
   "cell_type": "code",
   "execution_count": 9,
   "metadata": {},
   "outputs": [
    {
     "name": "stdout",
     "output_type": "stream",
     "text": [
      "17\n"
     ]
    }
   ],
   "source": [
    "def x(n):\n",
    "    print(n**2+1)\n",
    "\n",
    "x(4)"
   ]
  },
  {
   "cell_type": "markdown",
   "metadata": {},
   "source": [
    "### Exercise 5:\n",
    "\n",
    "1- Write a Python function that evaluates the mathematical functions $f(x)=cos(2x)$, $f^\\prime(x)=-2sin(2x)$, and $f\\prime\\prime(x)=-4cos(2x)$. \n",
    "\n",
    "2- Return these three values. Write out the results of these values for $x=\\pi$\n",
    "\n",
    "\n"
   ]
  },
  {
   "cell_type": "code",
   "execution_count": 10,
   "metadata": {},
   "outputs": [
    {
     "name": "stdout",
     "output_type": "stream",
     "text": [
      "1 0 -4\n",
      "4.898587196589413e-16\n"
     ]
    }
   ],
   "source": [
    "import sympy as sp\n",
    "import numpy as np\n",
    "def f(x):\n",
    "    return sp.cos(2*x)\n",
    "def f_prime(x):\n",
    "    return -2*sp.sin(2*x)\n",
    "def f_seconde(x):\n",
    "    return -4*sp.cos(2*x)\n",
    "f = f(sp.pi)\n",
    "f_prime = f_prime(sp.pi)\n",
    "f_seconde = f_seconde(sp.pi)\n",
    "print(f,f_prime,f_seconde)\n",
    "x=sp.symbols(\"x\")\n",
    "\n",
    "f = sp.cos(2*x)\n",
    "g = f.diff(x)\n",
    "print(float(g.subs(x, np.pi)))"
   ]
  },
  {
   "cell_type": "markdown",
   "metadata": {},
   "source": [
    "### Exercise 6:\n",
    "\n",
    "1- Write python function to solve $ax^2+bx+c=0$.  (a, b, c are given by the user).\n",
    "\n"
   ]
  },
  {
   "cell_type": "code",
   "execution_count": null,
   "metadata": {},
   "outputs": [],
   "source": [
    "def solve_quadratic_eq(a,b,c):\n",
    "    a = float(a)\n",
    "    b = float(b)\n",
    "    c = float(c)\n",
    "    delta = b**2 - 4*a*c\n",
    "    if delta < 0:\n",
    "        print(\"There is no reel solution to the equation .\")\n",
    "    elif delta == 0 :\n",
    "        X = (-b)//(2*a)\n",
    "        print(\"The only real Solution is : \", X)\n",
    "    else : \n",
    "        x1 = (-b + delta)/2*a\n",
    "        x2 = (-b - delta)/2*a\n",
    "        print(\"The two real solutions are : \", x1 , \"and\" , x2)\n",
    "        \n",
    "a,b,c = input('a = ') ,input('b = ') , input('c = ') \n",
    "solve_quadratic_eq(a,b,c)\n",
    "\n"
   ]
  },
  {
   "cell_type": "markdown",
   "metadata": {},
   "source": [
    "### Exercise 7:\n",
    "\n",
    "- Monte Carlo methods are a broad class of computational algorithms that rely on repeated random sampling to obtain numerical results. \n",
    "- One of the basic examples of getting started with the Monte Carlo algorithm is the estimation of Pi.\n",
    "\n",
    "## Estimation of Pi\n",
    "- The idea is to simulate random (x, y) points in a 2-D plane with domain as a square of side 1 unit. \n",
    "- Imagine a circle inside the same domain with same diameter and inscribed into the square. \n",
    "- We then calculate the ratio of number points that lied inside the circle and total number of generated points. \n",
    "- Refer to the image below:\n",
    "\n",
    "![demo](figures/MonteCarloPlot.png)\n",
    "\n",
    "\n",
    "\n",
    "## The Algorithm\n",
    "\n",
    "1. Initialize circle_points, square_points and interval to 0.\n",
    "2. Generate random point x.\n",
    "3. Generate random point y.\n",
    "4. Calculate d = x*x + y*y.\n",
    "5. If d <= 1, increment circle_points.\n",
    "6. Increment square_points.\n",
    "7. Increment interval.\n",
    "8. If increment < NO_OF_ITERATIONS, repeat from 2.\n",
    "9. Calculate pi = 4*(circle_points/square_points).\n",
    "10. Terminate.\n",
    "\n"
   ]
  },
  {
   "cell_type": "code",
   "execution_count": null,
   "metadata": {},
   "outputs": [],
   "source": [
    "from random import uniform\n",
    "def estimation (n):\n",
    "    c=0\n",
    "    for i in range(n):      \n",
    "        x=uniform(-1,1)\n",
    "        y=uniform(-1,1)\n",
    "    if x*x+y*y<1:\n",
    "        c=c+1\n",
    "    print(4*c/n)"
   ]
  }
 ],
 "metadata": {
  "kernelspec": {
   "display_name": "Python 3 (ipykernel)",
   "language": "python",
   "name": "python3"
  },
  "language_info": {
   "codemirror_mode": {
    "name": "ipython",
    "version": 3
   },
   "file_extension": ".py",
   "mimetype": "text/x-python",
   "name": "python",
   "nbconvert_exporter": "python",
   "pygments_lexer": "ipython3",
   "version": "3.10.6"
  }
 },
 "nbformat": 4,
 "nbformat_minor": 4
}
